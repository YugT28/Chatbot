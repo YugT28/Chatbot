{
 "cells": [
  {
   "cell_type": "code",
   "execution_count": 9,
   "id": "6f165c52",
   "metadata": {},
   "outputs": [],
   "source": [
    "from tkinter import *\n",
    "BG_GRAY = \"#ABB2B9\"\n",
    "BG_COLOR = \"#17202A\"\n",
    "TEXT_COLOR = \"#EAECEE\"\n",
    "\n",
    "FONT = \"Helvetica 14\"\n",
    "FONT_BOLD = \"Helvetica 13 bold\"\n",
    "\n",
    "root=Tk()\n",
    "def click():\n",
    "    msg=ent.get()\n",
    "    ent.delete(0,END)\n",
    "    \n",
    "    tex.configure(state=NORMAL)\n",
    "    tex.insert(END,\"You:- \"+ent.get()+\"\\n\")\n",
    "    tex.configure(state=DISABLED)\n",
    "    tex.see(END)\n",
    "    \n",
    "def Bot(x):\n",
    "    tex.configure(state=NORMAL)\n",
    "    tex.insert(END,x+\"\\n\")\n",
    "    tex.configure(state=DISABLED)\n",
    "    tex.see(END)\n",
    "    \n",
    "    \n",
    "root.title(\"Chat\")\n",
    "root.resizable(width=False, height=False)\n",
    "root.configure(width=470, height=550)\n",
    "\n",
    "line = Label(root, width=450, bg=BG_GRAY)\n",
    "line.place(relwidth=1, rely=0.07, relheight=0.012)\n",
    "        \n",
    "tex = Text(root, width=20, height=2,font=FONT, padx=5, pady=5)\n",
    "tex.place(relheight=0.745, relwidth=1, rely=0.08)\n",
    "tex.configure(cursor=\"arrow\",state=DISABLED)\n",
    "\n",
    "scrollbar = Scrollbar(root)\n",
    "scrollbar.place(relheight=1,relx=0.974)\n",
    "scrollbar.configure(command=tex.yview)\n",
    "\n",
    "bottom_label = Label(root, bg=BG_GRAY,height=80)\n",
    "bottom_label.place(relwidth=1, rely=0.825)   \n",
    "\n",
    "send_button = Button(bottom_label, text=\"Send\", font=FONT_BOLD, width=20, bg=BG_GRAY,command=click)\n",
    "send_button.place(relx=0.77, rely=0.008, relheight=0.06, relwidth=0.22)\n",
    "\n",
    "ent=Entry(bottom_label,font=FONT)\n",
    "ent.place(relwidth=0.75,relheight=0.07)\n",
    "\n",
    "root.mainloop()"
   ]
  },
  {
   "cell_type": "code",
   "execution_count": null,
   "id": "44cc3b41",
   "metadata": {},
   "outputs": [],
   "source": []
  }
 ],
 "metadata": {
  "kernelspec": {
   "display_name": "Python 3 (ipykernel)",
   "language": "python",
   "name": "python3"
  },
  "language_info": {
   "codemirror_mode": {
    "name": "ipython",
    "version": 3
   },
   "file_extension": ".py",
   "mimetype": "text/x-python",
   "name": "python",
   "nbconvert_exporter": "python",
   "pygments_lexer": "ipython3",
   "version": "3.9.13"
  }
 },
 "nbformat": 4,
 "nbformat_minor": 5
}
