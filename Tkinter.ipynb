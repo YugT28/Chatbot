{
 "cells": [
  {
   "cell_type": "markdown",
   "id": "1b0a0dfd",
   "metadata": {},
   "source": [
    "# 1) Import and basics of how it work and pack()"
   ]
  },
  {
   "cell_type": "markdown",
   "id": "f3ee2865",
   "metadata": {},
   "source": [
    "#first you create the things and then we put things on the screen"
   ]
  },
  {
   "cell_type": "code",
   "execution_count": 2,
   "id": "64097a6c",
   "metadata": {},
   "outputs": [],
   "source": [
    "from tkinter import *"
   ]
  },
  {
   "cell_type": "code",
   "execution_count": 4,
   "id": "e1620b22",
   "metadata": {},
   "outputs": [],
   "source": [
    "root=Tk()\n",
    "#myLabel=Label(root,text=\"Hello World!\")\n",
    "#myLabel.pack()#pack it somehow and position it somehow"
   ]
  },
  {
   "cell_type": "code",
   "execution_count": 5,
   "id": "e45f309e",
   "metadata": {},
   "outputs": [],
   "source": [
    "#root.mainloop()"
   ]
  },
  {
   "cell_type": "markdown",
   "id": "d3415868",
   "metadata": {},
   "source": [
    "# 2)Positioning With Grid()\n"
   ]
  },
  {
   "cell_type": "markdown",
   "id": "f11b29d7",
   "metadata": {},
   "source": [
    "#We can use grid or pack both do same thing but grid is more sofesticated\n",
    "#Different grid allign as they are reletive to each other"
   ]
  },
  {
   "cell_type": "code",
   "execution_count": 6,
   "id": "f34c6320",
   "metadata": {},
   "outputs": [],
   "source": [
    "# myLabel1=Label(root,text=\"Yugandhar Is My name\")\n",
    "# myLabel2=Label(root,text=\"                           \")\n",
    "# myLabel.grid(row=0,column=0)\n",
    "# myLabel1.grid(row=1,column=5)\n",
    "# myLabel1.grid(row=1,column=1)\n",
    "\n",
    "\n",
    "# root.mainloop()"
   ]
  },
  {
   "cell_type": "markdown",
   "id": "4de7c2c9",
   "metadata": {},
   "source": [
    "\n",
    "# 3)Python can work like ruby using \".\""
   ]
  },
  {
   "cell_type": "code",
   "execution_count": 7,
   "id": "b240a311",
   "metadata": {},
   "outputs": [],
   "source": [
    "\n",
    "# myLabel=Label(root,text=\"Hello World!\").grid(row=0,column=0)\n",
    "# myLabel1=Label(root,text=\"Yugandhar Is My name\").grid(row=1,column=5)\n",
    "# myLabel2=Label(root,text=\"                           \").grid(row=1,column=1)\n",
    "# root.mainloop()"
   ]
  },
  {
   "cell_type": "markdown",
   "id": "67ecb322",
   "metadata": {},
   "source": [
    "# 4) Assiging Button \n",
    "        \n",
    "\n"
   ]
  },
  {
   "cell_type": "markdown",
   "id": "9df21448",
   "metadata": {},
   "source": [
    "#every thing in tkinter is widget"
   ]
  },
  {
   "cell_type": "markdown",
   "id": "e51d6ecb",
   "metadata": {},
   "source": [
    "#pack and grid can not be exists at same time\n",
    "#there is huge diffrerence between command=myClick vs command=myClick()\n",
    "#when you are using command button avoid () ahead of function.\n",
    "#fg=foreground colour,bg=background colour\n",
    "#we can even use hex colour code for fg and bg\n"
   ]
  },
  {
   "cell_type": "code",
   "execution_count": 1,
   "id": "e90dfd27",
   "metadata": {},
   "outputs": [],
   "source": [
    "# myButton=Button(root,text='Click Me!',state=DISABLED)\n",
    "from tkinter import *\n",
    "def myClick(): \n",
    "    myLabel=Label(root,text=\"Look I clicked Button!!\")\n",
    "    myLabel.pack()\n",
    "root=Tk()\n",
    "myButton=Button(root,text='Click Me!',padx=50,pady=50,command=myClick)#.grid(row=1,column=3)\n",
    "\n",
    "myButton=Button(root,text=\"Click Me\",command=myClick,bg=\"pink\",fg=\"green\")\n",
    "myButton.pack()#.grid(row=2,column=2)\n",
    "root.mainloop()"
   ]
  },
  {
   "cell_type": "markdown",
   "id": "580ec388",
   "metadata": {},
   "source": [
    "# 5)To get input box in tkinter by Entry Widget\n",
    "\n"
   ]
  },
  {
   "cell_type": "markdown",
   "id": "1fbe9ada",
   "metadata": {},
   "source": [
    "e.get()\n",
    "e.insert()"
   ]
  },
  {
   "cell_type": "code",
   "execution_count": 2,
   "id": "cbc59a97",
   "metadata": {},
   "outputs": [],
   "source": [
    "def myClick(): \n",
    "    hello=\"Hello\"+\" \"+e.get()\n",
    "    myLabel=Label(root,text=hello) #can do pythonic things\n",
    "    myLabel.pack()\n",
    "root=Tk()\n",
    "e=Entry(root,width=50,bg=\"blue\",fg=\"black\",borderwidth=5)#defining entry widget\n",
    "e.pack()#inserting entry widget\n",
    "e.insert(0,\"hey can you entre your name\")\n",
    "# e.get()\n",
    "\n",
    "#myButton=Button(root,text='Click Me!',padx=50,pady=50,command=myClick)#.grid(row=1,column=3)\n",
    "\n",
    "myButton=Button(root,text=\"Enter Your Name\",command=myClick,bg=\"pink\")\n",
    "myButton.pack()#.grid(row=2,column=2)\n",
    "root.mainloop()\n"
   ]
  },
  {
   "cell_type": "markdown",
   "id": "6900c91a",
   "metadata": {},
   "source": [
    "# 6)Make a Calculator(My Experiment) "
   ]
  },
  {
   "cell_type": "code",
   "execution_count": 170,
   "id": "28545c8e",
   "metadata": {},
   "outputs": [],
   "source": [
    "from tkinter import *\n",
    "root=Tk()\n",
    "B=[]\n",
    "k=0\n",
    "for i in range(1,4):\n",
    "    for j in range(1,4):\n",
    "        B.append(Button(root,text=k).grid(row=i,column=j))\n",
    "        k+=1\n",
    "e=Entry(root)\n",
    "e.grid(row=0,column=0)\n",
    "        \n",
    "root.mainloop()"
   ]
  },
  {
   "cell_type": "markdown",
   "id": "a4803779",
   "metadata": {},
   "source": [
    "# 7)Make a Calculator(by tutor)"
   ]
  },
  {
   "cell_type": "raw",
   "id": "c5349062",
   "metadata": {},
   "source": [
    "padx and pady is padding along x and y axis\n",
    "width is width of Entry\n",
    "boarderwidth is shadowed width of Entry \n",
    "columnspan is spaning of two or more column\n",
    "error might come  by giving functionto button by a(),a,lambda: a use this three accordingly\n",
    "conversion to int might be complicated if  we improperly use lambda use it wisely"
   ]
  },
  {
   "cell_type": "code",
   "execution_count": 3,
   "id": "9ed394dc",
   "metadata": {},
   "outputs": [
    {
     "name": "stderr",
     "output_type": "stream",
     "text": [
      "Exception in Tkinter callback\n",
      "Traceback (most recent call last):\n",
      "  File \"C:\\Users\\sunny\\anaconda3\\lib\\tkinter\\__init__.py\", line 1892, in __call__\n",
      "    return self.func(*args)\n",
      "  File \"C:\\Users\\sunny\\AppData\\Local\\Temp\\ipykernel_24936\\4194261013.py\", line 46, in button_divi\n",
      "    button_equal()\n",
      "  File \"C:\\Users\\sunny\\AppData\\Local\\Temp\\ipykernel_24936\\4194261013.py\", line 52, in button_equal\n",
      "    se=int(e.get())\n",
      "ValueError: invalid literal for int() with base 10: ''\n"
     ]
    }
   ],
   "source": [
    "from tkinter import *\n",
    "root=Tk()\n",
    "\n",
    "#defining entry\n",
    "e=Entry(root,width=35,borderwidth=5)\n",
    "e.grid(row=0,column=0,padx=5,pady=5,columnspan=3)\n",
    "\n",
    "\n",
    "#defining button function\n",
    "def button_click(key):\n",
    "    current=e.get()\n",
    "    e.delete(0,END)\n",
    "    e.insert(0,str(current)+str(key))\n",
    "    return\n",
    "\n",
    "def button_add():\n",
    "    global f\n",
    "    f=e.get()\n",
    "    global math\n",
    "    math=\"+\"\n",
    "    e.delete(0,END)\n",
    "    button_equal()\n",
    "    return\n",
    "def button_sub():\n",
    "    global f\n",
    "    f=e.get()\n",
    "    global math\n",
    "    math=\"-\"\n",
    "    e.delete(0,END)\n",
    "    button_equal()\n",
    "    return\n",
    "def button_mult():\n",
    "    global f\n",
    "    f=e.get()\n",
    "    global math\n",
    "    math=\"*\"\n",
    "    e.delete(0,END)\n",
    "    button_equal()\n",
    "    return\n",
    "def button_divi():\n",
    "    global f\n",
    "    f=e.get()\n",
    "    global math\n",
    "    math=\"/\"\n",
    "    e.delete(0,END)\n",
    "    button_equal()\n",
    "    return\n",
    "def button_clear():\n",
    "    e.delete(0,END)\n",
    "    return\n",
    "def button_equal():\n",
    "    se=int(e.get())\n",
    "    e.delete(0,END)\n",
    "    if math==\"+\":\n",
    "        e.insert(0,int(f)+se)\n",
    "    if math==\"-\":\n",
    "        e.insert(0,int(f)-se)\n",
    "    if math==\"*\":\n",
    "        e.insert(0,int(f)*se)\n",
    "    if math==\"/\":\n",
    "        e.insert(0,int(f)/se)\n",
    "    return\n",
    "\n",
    "\n",
    "#padx=40,pady=20\n",
    "#padding is defined in creating button not while locating button here i made mistake\n",
    "b_1=Button(root,text=\"1\",width=8,height=3,command=lambda: button_click(1))\n",
    "b_2=Button(root,text=\"2\",width=8,height=3,command=lambda: button_click(2))\n",
    "b_3=Button(root,text=\"3\",width=8,height=3,command=lambda: button_click(3))\n",
    "b_4=Button(root,text=\"4\",width=8,height=3,command=lambda: button_click(4))\n",
    "b_5=Button(root,text=\"5\",width=8,height=3,command=lambda: button_click(5))\n",
    "b_6=Button(root,text=\"6\",width=8,height=3,command=lambda: button_click(6))\n",
    "b_7=Button(root,text=\"7\",width=8,height=3,command=lambda: button_click(7))\n",
    "b_8=Button(root,text=\"8\",width=8,height=3,command=lambda: button_click(8))\n",
    "b_9=Button(root,text=\"9\",width=8,height=3,command=lambda: button_click(9))\n",
    "b_0=Button(root,text=\"0\",width=8,height=3,command=lambda: button_click(0))\n",
    "\n",
    "b_add=Button(root,text=\"+\",width=8,height=3,command= button_add)\n",
    "b_sub=Button(root,text=\"-\",width=8,height=3,command= button_sub)\n",
    "b_mult=Button(root,text=\"*\",width=8,height=3,command= button_mult)\n",
    "b_divi=Button(root,text=\"/\",width=8,height=3,command= button_divi)\n",
    "\n",
    "b_clear=Button(root,text=\"Clear\",width=16,height=3,command=button_clear)\n",
    "b_equal=Button(root,text=\"=\",width=16,height=3,command=button_equal)\n",
    "\n",
    "\n",
    "\n",
    "b_1.grid(row=3,column=0,ipadx=1,ipady=1)\n",
    "b_2.grid(row=3,column=1,padx=1,pady=1)\n",
    "b_3.grid(row=3,column=2,padx=1,pady=1)\n",
    "\n",
    "b_4.grid(row=2,column=0,padx=5,pady=5)\n",
    "b_5.grid(row=2,column=1,padx=5,pady=5)\n",
    "b_6.grid(row=2,column=2,padx=5,pady=5)\n",
    "\n",
    "b_7.grid(row=1,column=0,padx=5,pady=5)\n",
    "b_8.grid(row=1,column=1,padx=5,pady=5)\n",
    "b_9.grid(row=1,column=2,padx=5,pady=5)\n",
    "\n",
    "b_0.grid(row=4,column=0,padx=5,pady=5)\n",
    "\n",
    "b_add.grid(row=4,column=1,padx=5,pady=5)\n",
    "b_sub.grid(row=4,column=2,padx=5,pady=5)\n",
    "b_mult.grid(row=5,column=0,padx=5,pady=5)\n",
    "b_divi.grid(row=6,column=0,padx=5,pady=5)\n",
    "\n",
    "b_clear.grid(row=5,column=1,padx=5,pady=5,columnspan=2)\n",
    "b_equal.grid(row=6,column=1,padx=5,pady=5,columnspan=2)\n",
    "\n",
    "root.mainloop()\n",
    "\n"
   ]
  },
  {
   "cell_type": "markdown",
   "id": "b3432c1e",
   "metadata": {},
   "source": [
    "# Icon,Image And Close Button"
   ]
  },
  {
   "cell_type": "raw",
   "id": "9d3792c9",
   "metadata": {},
   "source": [
    "root.iconbitmap(\"URL\")\n",
    "we are using pil for image support\n",
    "image showing is  three step process unlike other which are two step:-\n",
    "i)define image\n",
    "ii)put that image in something else(Label)\n",
    "iii)and thaat something else is put on screen"
   ]
  },
  {
   "cell_type": "code",
   "execution_count": 10,
   "id": "c27ee3fb",
   "metadata": {},
   "outputs": [],
   "source": [
    "from tkinter import *\n",
    "from PIL import ImageTk,Image\n",
    "root=Tk()\n",
    "root.title(\"Learn\")\n",
    "root.iconbitmap(\"C:\\\\Users\\\\sunny\\\\Desktop\\\\iconn.ico\")\n",
    "\n",
    "\n",
    "my_img=ImageTk.PhotoImage(Image.open(\"C:\\\\Users\\\\sunny\\\\Desktop\\\\image1.jpg\"))\n",
    "my_label=Label(image=my_img)\n",
    "my_label.pack()\n",
    "root.mainloop()\n",
    "\n"
   ]
  },
  {
   "cell_type": "markdown",
   "id": "e947ecb6",
   "metadata": {},
   "source": [
    "# Create Image viewer(my version)"
   ]
  },
  {
   "cell_type": "raw",
   "id": "b54a1602",
   "metadata": {},
   "source": [
    ".grid_forget() use to delete privious label\n",
    "use to get ride of something\n"
   ]
  },
  {
   "cell_type": "code",
   "execution_count": 29,
   "id": "783e3a9a",
   "metadata": {},
   "outputs": [
    {
     "ename": "TclError",
     "evalue": "image \"pyimage50\" doesn't exist",
     "output_type": "error",
     "traceback": [
      "\u001B[1;31m---------------------------------------------------------------------------\u001B[0m",
      "\u001B[1;31mTclError\u001B[0m                                  Traceback (most recent call last)",
      "Input \u001B[1;32mIn [29]\u001B[0m, in \u001B[0;36m<cell line: 34>\u001B[1;34m()\u001B[0m\n\u001B[0;32m     31\u001B[0m my_img4\u001B[38;5;241m=\u001B[39mImageTk\u001B[38;5;241m.\u001B[39mPhotoImage(Image\u001B[38;5;241m.\u001B[39mopen(\u001B[38;5;124m\"\u001B[39m\u001B[38;5;124mC:\u001B[39m\u001B[38;5;130;01m\\\\\u001B[39;00m\u001B[38;5;124mUsers\u001B[39m\u001B[38;5;130;01m\\\\\u001B[39;00m\u001B[38;5;124msunny\u001B[39m\u001B[38;5;130;01m\\\\\u001B[39;00m\u001B[38;5;124mDesktop\u001B[39m\u001B[38;5;130;01m\\\\\u001B[39;00m\u001B[38;5;124mimage4.jpg\u001B[39m\u001B[38;5;124m\"\u001B[39m))\n\u001B[0;32m     33\u001B[0m image_list\u001B[38;5;241m=\u001B[39m[my_img1,my_img2,my_img3,my_img4,my_img5] \n\u001B[1;32m---> 34\u001B[0m my_label\u001B[38;5;241m=\u001B[39m\u001B[43mLabel\u001B[49m\u001B[43m(\u001B[49m\u001B[43mroot\u001B[49m\u001B[43m,\u001B[49m\u001B[43mimage\u001B[49m\u001B[38;5;241;43m=\u001B[39;49m\u001B[43mmy_img1\u001B[49m\u001B[43m)\u001B[49m\n\u001B[0;32m     37\u001B[0m exit\u001B[38;5;241m=\u001B[39mButton(root,text\u001B[38;5;241m=\u001B[39m\u001B[38;5;124m\"\u001B[39m\u001B[38;5;124mExit Program\u001B[39m\u001B[38;5;124m\"\u001B[39m,padx\u001B[38;5;241m=\u001B[39m\u001B[38;5;241m10\u001B[39m,pady\u001B[38;5;241m=\u001B[39m\u001B[38;5;241m5\u001B[39m,command\u001B[38;5;241m=\u001B[39mroot\u001B[38;5;241m.\u001B[39mquit)\n\u001B[0;32m     38\u001B[0m left\u001B[38;5;241m=\u001B[39mButton(root,text\u001B[38;5;241m=\u001B[39m\u001B[38;5;124m\"\u001B[39m\u001B[38;5;124m<<\u001B[39m\u001B[38;5;124m\"\u001B[39m,padx\u001B[38;5;241m=\u001B[39m\u001B[38;5;241m10\u001B[39m,pady\u001B[38;5;241m=\u001B[39m\u001B[38;5;241m5\u001B[39m,command\u001B[38;5;241m=\u001B[39mbutton_left)\n",
      "File \u001B[1;32m~\\anaconda3\\lib\\tkinter\\__init__.py:3148\u001B[0m, in \u001B[0;36mLabel.__init__\u001B[1;34m(self, master, cnf, **kw)\u001B[0m\n\u001B[0;32m   3130\u001B[0m \u001B[38;5;28;01mdef\u001B[39;00m \u001B[38;5;21m__init__\u001B[39m(\u001B[38;5;28mself\u001B[39m, master\u001B[38;5;241m=\u001B[39m\u001B[38;5;28;01mNone\u001B[39;00m, cnf\u001B[38;5;241m=\u001B[39m{}, \u001B[38;5;241m*\u001B[39m\u001B[38;5;241m*\u001B[39mkw):\n\u001B[0;32m   3131\u001B[0m     \u001B[38;5;124;03m\"\"\"Construct a label widget with the parent MASTER.\u001B[39;00m\n\u001B[0;32m   3132\u001B[0m \n\u001B[0;32m   3133\u001B[0m \u001B[38;5;124;03m    STANDARD OPTIONS\u001B[39;00m\n\u001B[1;32m   (...)\u001B[0m\n\u001B[0;32m   3146\u001B[0m \n\u001B[0;32m   3147\u001B[0m \u001B[38;5;124;03m    \"\"\"\u001B[39;00m\n\u001B[1;32m-> 3148\u001B[0m     \u001B[43mWidget\u001B[49m\u001B[38;5;241;43m.\u001B[39;49m\u001B[38;5;21;43m__init__\u001B[39;49m\u001B[43m(\u001B[49m\u001B[38;5;28;43mself\u001B[39;49m\u001B[43m,\u001B[49m\u001B[43m \u001B[49m\u001B[43mmaster\u001B[49m\u001B[43m,\u001B[49m\u001B[43m \u001B[49m\u001B[38;5;124;43m'\u001B[39;49m\u001B[38;5;124;43mlabel\u001B[39;49m\u001B[38;5;124;43m'\u001B[39;49m\u001B[43m,\u001B[49m\u001B[43m \u001B[49m\u001B[43mcnf\u001B[49m\u001B[43m,\u001B[49m\u001B[43m \u001B[49m\u001B[43mkw\u001B[49m\u001B[43m)\u001B[49m\n",
      "File \u001B[1;32m~\\anaconda3\\lib\\tkinter\\__init__.py:2572\u001B[0m, in \u001B[0;36mBaseWidget.__init__\u001B[1;34m(self, master, widgetName, cnf, kw, extra)\u001B[0m\n\u001B[0;32m   2570\u001B[0m \u001B[38;5;28;01mfor\u001B[39;00m k, v \u001B[38;5;129;01min\u001B[39;00m classes:\n\u001B[0;32m   2571\u001B[0m     \u001B[38;5;28;01mdel\u001B[39;00m cnf[k]\n\u001B[1;32m-> 2572\u001B[0m \u001B[38;5;28;43mself\u001B[39;49m\u001B[38;5;241;43m.\u001B[39;49m\u001B[43mtk\u001B[49m\u001B[38;5;241;43m.\u001B[39;49m\u001B[43mcall\u001B[49m\u001B[43m(\u001B[49m\n\u001B[0;32m   2573\u001B[0m \u001B[43m    \u001B[49m\u001B[43m(\u001B[49m\u001B[43mwidgetName\u001B[49m\u001B[43m,\u001B[49m\u001B[43m \u001B[49m\u001B[38;5;28;43mself\u001B[39;49m\u001B[38;5;241;43m.\u001B[39;49m\u001B[43m_w\u001B[49m\u001B[43m)\u001B[49m\u001B[43m \u001B[49m\u001B[38;5;241;43m+\u001B[39;49m\u001B[43m \u001B[49m\u001B[43mextra\u001B[49m\u001B[43m \u001B[49m\u001B[38;5;241;43m+\u001B[39;49m\u001B[43m \u001B[49m\u001B[38;5;28;43mself\u001B[39;49m\u001B[38;5;241;43m.\u001B[39;49m\u001B[43m_options\u001B[49m\u001B[43m(\u001B[49m\u001B[43mcnf\u001B[49m\u001B[43m)\u001B[49m\u001B[43m)\u001B[49m\n\u001B[0;32m   2574\u001B[0m \u001B[38;5;28;01mfor\u001B[39;00m k, v \u001B[38;5;129;01min\u001B[39;00m classes:\n\u001B[0;32m   2575\u001B[0m     k\u001B[38;5;241m.\u001B[39mconfigure(\u001B[38;5;28mself\u001B[39m, v)\n",
      "\u001B[1;31mTclError\u001B[0m: image \"pyimage50\" doesn't exist"
     ]
    }
   ],
   "source": [
    "from tkinter import *\n",
    "from PIL import ImageTk,Image\n",
    "\n",
    "global img\n",
    "img=0\n",
    "\n",
    "\n",
    "\n",
    "root=Tk()\n",
    "\n",
    "def button_exit():\n",
    "        \n",
    "    returnn\n",
    "def button_left():\n",
    "    global img\n",
    "    img-=1\n",
    "    my_label=Label(root,image=image_list[img])\n",
    "    my_label.grid(row=0,column=0)\n",
    "    return\n",
    "def button_right():\n",
    "    global img\n",
    "    img+=1\n",
    "    my_label=Label(root,image=image_list[img])\n",
    "    my_label.grid(row=0,column=0)\n",
    "    return\n",
    "\n",
    "my_img5=ImageTk.PhotoImage(Image.open(\"C:\\\\Users\\\\sunny\\\\Desktop\\\\image5.jpg\"))\n",
    "my_img1=ImageTk.PhotoImage(Image.open(\"C:\\\\Users\\\\sunny\\\\Desktop\\\\image1.jpg\"))\n",
    "my_img2=ImageTk.PhotoImage(Image.open(\"C:\\\\Users\\\\sunny\\\\Desktop\\\\image2.jpg\"))\n",
    "my_img3=ImageTk.PhotoImage(Image.open(\"C:\\\\Users\\\\sunny\\\\Desktop\\\\image3.jpg\"))\n",
    "my_img4=ImageTk.PhotoImage(Image.open(\"C:\\\\Users\\\\sunny\\\\Desktop\\\\image4.jpg\"))\n",
    "\n",
    "image_list=[my_img1,my_img2,my_img3,my_img4,my_img5] \n",
    "# my_label=Label(root,image=my_img1)\n",
    "\n",
    "\n",
    "exit=Button(root,text=\"Exit Program\",padx=10,pady=5,command=root.quit)\n",
    "left=Button(root,text=\"<<\",padx=10,pady=5,command=lambda: button_left)\n",
    "right=Button(root,text=\">>\",padx=10,pady=5,command=lambda: button_right)\n",
    "# my_label.grid(row=0,column=0,columnspan=3)\n",
    "exit.grid(row=1,column=1)\n",
    "left.grid(row=1,column=0)\n",
    "right.grid(row=1,column=2)\n",
    "root.mainloop()\n",
    "\n",
    "\n",
    "\n"
   ]
  },
  {
   "cell_type": "markdown",
   "id": "d3c694d2",
   "metadata": {},
   "source": [
    "# Create ImageViewer(Tutor)"
   ]
  },
  {
   "cell_type": "raw",
   "id": "1c714bd3",
   "metadata": {},
   "source": [
    "dont write root inside Label\n",
    "grid_forget() to delete label from screen\n",
    "bd is for border for label parameter\n",
    "relief=sunken in label parameter\n",
    "sticky will strech along direction like east west south north use for lable\n",
    "anchor means tie down to  east west south north use for label\n",
    "after every change we can update button by following way xd very lame\n",
    "\n"
   ]
  },
  {
   "cell_type": "code",
   "execution_count": 4,
   "id": "c9c2f626",
   "metadata": {},
   "outputs": [
    {
     "ename": "FileNotFoundError",
     "evalue": "[Errno 2] No such file or directory: 'C:\\\\Users\\\\sunny\\\\Desktop\\\\image1.jpg'",
     "output_type": "error",
     "traceback": [
      "\u001B[1;31m---------------------------------------------------------------------------\u001B[0m",
      "\u001B[1;31mFileNotFoundError\u001B[0m                         Traceback (most recent call last)",
      "\u001B[1;32m~\\AppData\\Local\\Temp\\ipykernel_24936\\377296147.py\u001B[0m in \u001B[0;36m<module>\u001B[1;34m\u001B[0m\n\u001B[0;32m     74\u001B[0m \u001B[1;31m# my_img=ImageTk.PhotoImage(Image.open(\"C:\\\\Users\\\\sunny\\\\Desktop\\\\image1.jpg\"))\u001B[0m\u001B[1;33m\u001B[0m\u001B[1;33m\u001B[0m\u001B[0m\n\u001B[0;32m     75\u001B[0m \u001B[1;33m\u001B[0m\u001B[0m\n\u001B[1;32m---> 76\u001B[1;33m \u001B[0mmy_img1\u001B[0m\u001B[1;33m=\u001B[0m\u001B[0mImageTk\u001B[0m\u001B[1;33m.\u001B[0m\u001B[0mPhotoImage\u001B[0m\u001B[1;33m(\u001B[0m\u001B[0mImage\u001B[0m\u001B[1;33m.\u001B[0m\u001B[0mopen\u001B[0m\u001B[1;33m(\u001B[0m\u001B[1;34m\"C:\\\\Users\\\\sunny\\\\Desktop\\\\image1.jpg\"\u001B[0m\u001B[1;33m)\u001B[0m\u001B[1;33m)\u001B[0m\u001B[1;33m\u001B[0m\u001B[1;33m\u001B[0m\u001B[0m\n\u001B[0m\u001B[0;32m     77\u001B[0m \u001B[0mmy_img2\u001B[0m\u001B[1;33m=\u001B[0m\u001B[0mImageTk\u001B[0m\u001B[1;33m.\u001B[0m\u001B[0mPhotoImage\u001B[0m\u001B[1;33m(\u001B[0m\u001B[0mImage\u001B[0m\u001B[1;33m.\u001B[0m\u001B[0mopen\u001B[0m\u001B[1;33m(\u001B[0m\u001B[1;34m\"C:\\\\Users\\\\sunny\\\\Desktop\\\\image2.jpg\"\u001B[0m\u001B[1;33m)\u001B[0m\u001B[1;33m)\u001B[0m\u001B[1;33m\u001B[0m\u001B[1;33m\u001B[0m\u001B[0m\n\u001B[0;32m     78\u001B[0m \u001B[0mmy_img3\u001B[0m\u001B[1;33m=\u001B[0m\u001B[0mImageTk\u001B[0m\u001B[1;33m.\u001B[0m\u001B[0mPhotoImage\u001B[0m\u001B[1;33m(\u001B[0m\u001B[0mImage\u001B[0m\u001B[1;33m.\u001B[0m\u001B[0mopen\u001B[0m\u001B[1;33m(\u001B[0m\u001B[1;34m\"C:\\\\Users\\\\sunny\\\\Desktop\\\\image3.jpg\"\u001B[0m\u001B[1;33m)\u001B[0m\u001B[1;33m)\u001B[0m\u001B[1;33m\u001B[0m\u001B[1;33m\u001B[0m\u001B[0m\n",
      "\u001B[1;32m~\\anaconda3\\lib\\site-packages\\PIL\\Image.py\u001B[0m in \u001B[0;36mopen\u001B[1;34m(fp, mode, formats)\u001B[0m\n\u001B[0;32m   3090\u001B[0m \u001B[1;33m\u001B[0m\u001B[0m\n\u001B[0;32m   3091\u001B[0m     \u001B[1;32mif\u001B[0m \u001B[0mfilename\u001B[0m\u001B[1;33m:\u001B[0m\u001B[1;33m\u001B[0m\u001B[1;33m\u001B[0m\u001B[0m\n\u001B[1;32m-> 3092\u001B[1;33m         \u001B[0mfp\u001B[0m \u001B[1;33m=\u001B[0m \u001B[0mbuiltins\u001B[0m\u001B[1;33m.\u001B[0m\u001B[0mopen\u001B[0m\u001B[1;33m(\u001B[0m\u001B[0mfilename\u001B[0m\u001B[1;33m,\u001B[0m \u001B[1;34m\"rb\"\u001B[0m\u001B[1;33m)\u001B[0m\u001B[1;33m\u001B[0m\u001B[1;33m\u001B[0m\u001B[0m\n\u001B[0m\u001B[0;32m   3093\u001B[0m         \u001B[0mexclusive_fp\u001B[0m \u001B[1;33m=\u001B[0m \u001B[1;32mTrue\u001B[0m\u001B[1;33m\u001B[0m\u001B[1;33m\u001B[0m\u001B[0m\n\u001B[0;32m   3094\u001B[0m \u001B[1;33m\u001B[0m\u001B[0m\n",
      "\u001B[1;31mFileNotFoundError\u001B[0m: [Errno 2] No such file or directory: 'C:\\\\Users\\\\sunny\\\\Desktop\\\\image1.jpg'"
     ]
    }
   ],
   "source": [
    "#importing\n",
    "from tkinter import *\n",
    "from PIL import ImageTk,Image\n",
    "\n",
    "#initialising global\n",
    "\n",
    "global image_number\n",
    "image_number=0\n",
    "\n",
    "#initialising main root\n",
    "\n",
    "root=Tk()\n",
    "root.title(\"Image Viewer\")\n",
    "\n",
    "#function\n",
    "def forward():\n",
    "    global my_label\n",
    "    global image_number\n",
    "    if image_number in range(0,5):\n",
    "        image_number+=1\n",
    "        if image_number>4:\n",
    "            button_forward=Button(root,text=\"<<\",command=forward,status=DISABLED)\n",
    "            image_number=4\n",
    "            button_forward.grid(row=1,column=2)\n",
    "        elif image_number>0:\n",
    "            button_back=Button(root,text=\"<<\",command=backward)\n",
    "            button_back.grid(row=1,column=0)\n",
    "    \n",
    "    \n",
    "    \n",
    "    \n",
    "    \n",
    "        my_label.grid_forget()\n",
    "        my_label=Label(image=img_list[image_number])\n",
    "        my_label.grid(row=0,column=0,columnspan=3)\n",
    "    \n",
    "#     button_forward(root,text=\">>\",command=lambda: forward(image_number+1))\n",
    "#     button_backward(root,text=\"<<\",command=lambda: backward(image_number-1))\n",
    "    \n",
    "#     button_forward.grid(row=1,column=2)\n",
    "#     button_backward.grid(row=1,column=0)\n",
    "    return\n",
    "def backward():\n",
    "    \n",
    "    global my_label\n",
    "    global image_number\n",
    "    if image_number in range(0,5):\n",
    "        image_number-=1\n",
    "        if image_number<0:\n",
    "            button_back=Button(root,text=\"<<\",command=backward,status=DISABLED)\n",
    "            button_back.grid(row=1,column=0)\n",
    "            image_number=0\n",
    "        elif image_number<4:\n",
    "            button_forward=Button(root,text=\">>\",command=forward)\n",
    "            button_forward.grid(row=1,column=2)\n",
    "    \n",
    "        my_label.grid_forget()\n",
    "        my_label=Label(image=img_list[image_number])\n",
    "        my_label.grid(row=0,column=0,columnspan=3)\n",
    "   \n",
    "        \n",
    "    \n",
    "    \n",
    "    \n",
    "    \n",
    "    return\n",
    "\n",
    "\n",
    "\n",
    "\n",
    "\n",
    "\n",
    "#uploading image from computer\n",
    "# my_img=ImageTk.PhotoImage(Image.open(\"C:\\\\Users\\\\sunny\\\\Desktop\\\\image1.jpg\"))\n",
    "\n",
    "my_img1=ImageTk.PhotoImage(Image.open(\"C:\\\\Users\\\\sunny\\\\Desktop\\\\image1.jpg\"))\n",
    "my_img2=ImageTk.PhotoImage(Image.open(\"C:\\\\Users\\\\sunny\\\\Desktop\\\\image2.jpg\"))\n",
    "my_img3=ImageTk.PhotoImage(Image.open(\"C:\\\\Users\\\\sunny\\\\Desktop\\\\image3.jpg\"))\n",
    "my_img4=ImageTk.PhotoImage(Image.open(\"C:\\\\Users\\\\sunny\\\\Desktop\\\\image4.jpg\"))\n",
    "my_img5=ImageTk.PhotoImage(Image.open(\"C:\\\\Users\\\\sunny\\\\Desktop\\\\image5.jpg\"))\n",
    "\n",
    "#making list of all image\n",
    "img_list=[my_img1,my_img2,my_img3,my_img4,my_img5]\n",
    "\n",
    "\n",
    "\n",
    "#making button and label\n",
    "my_label=Label(image=my_img1)\n",
    "status=Label(root,text=\"Image 1 of\"+str(len(img_list)),relief=SUNKEN,bd=1,anchor=E)\n",
    "\n",
    "button_back=Button(root,text=\"<<\",command=backward)#very important why we didnt use lambda\n",
    "button_exit=Button(root,text=\"Exit Program\",command=root.quit)\n",
    "button_forward=Button(root,text=\">>\",command=forward) # we use lambda to pass somme parameter \n",
    "#arranging button\n",
    "my_label.grid(row=0,column=0,columnspan=3)\n",
    "# my_label.place(x=0,y=0)\n",
    "status.grid(row=2,column=0,columnspan=3,sticky=W+E)\n",
    "button_back.grid(row=1,column=0)\n",
    "button_exit.grid(row=1,column=1)\n",
    "button_forward.grid(row=1,column=2)\n",
    "\n",
    "root.mainloop()\n",
    "\n",
    "\n"
   ]
  },
  {
   "cell_type": "markdown",
   "id": "d171cf13",
   "metadata": {},
   "source": [
    "# Adding frames to your program\n",
    "its implementation is like any other widget"
   ]
  },
  {
   "cell_type": "raw",
   "id": "8d86f325",
   "metadata": {},
   "source": [
    "we can put padding while creating and whike positioning also both have differernt meaning.\n",
    "if we want to get widget inside frame then insteadd of root use frame widget.\n",
    "\n",
    "\n"
   ]
  },
  {
   "cell_type": "code",
   "execution_count": 6,
   "id": "d82d719c",
   "metadata": {},
   "outputs": [],
   "source": [
    "from tkinter import *\n",
    "\n",
    "root=Tk()\n",
    "\n",
    "frame=LabelFrame(root,text=\"This is my frame\",padx=5,pady=5)#this padding is given to inside content of frame\n",
    "frame.pack(padx=100,pady=100)#this padding is given to outside of frame with enviornment or nearer widget\n",
    "\n",
    "b=Button(frame,text=\"dont click here\")\n",
    "b.grid(row=0,column=0,padx=100,pady=100)\n",
    "b1=Button(frame,text=\"or here\",padx=23)\n",
    "b1.grid(row=1,column=1,padx=100,pady=100)\n",
    "\n",
    "root.mainloop()"
   ]
  },
  {
   "cell_type": "markdown",
   "id": "07b0fdc0",
   "metadata": {},
   "source": [
    "# Radio Button Widget\n",
    "kinter has its own variable  some differernt than python variable we are using this variable\n",
    "IntVar() helps kinter to keep track of  variable changes overtime to this variable\n",
    "we can use .get with that variable\n",
    "this variable are similar to python but alot different than that\n",
    "\n",
    "pack()-will automatically set all things on its own,here we can also give input\n",
    "gird()-here we have to define every thing\n"
   ]
  },
  {
   "cell_type": "code",
   "execution_count": 7,
   "id": "09adc9ed",
   "metadata": {},
   "outputs": [],
   "source": [
    "from tkinter import *\n",
    "from PIL import ImageTk,Image\n",
    "# import tkinter.Radiobutton\n",
    "root=Tk()\n",
    "\n",
    "r=IntVar()\n",
    "r.set(2)\n",
    "\n",
    "def clicked():\n",
    "        global my_Label\n",
    "        my_Label=Label(root,text=r.get()).grid(row=2,column=0)\n",
    "    \n",
    "\n",
    "Radiobutton(root,text=\"Option 1\",variable=r,value=1,command=clicked).grid(row=0,column=0)\n",
    "Radiobutton(root,text=\"Option 2\",variable=r,value=2,command=clicked).grid(row=1,column=0)\n",
    "\n",
    "my_Label=Label(root,text=r.get()).grid(row=2,column=0)\n",
    "\n",
    "root.mainloop()"
   ]
  },
  {
   "cell_type": "markdown",
   "id": "b3732a16",
   "metadata": {},
   "source": [
    "# Make pizza topping APP"
   ]
  },
  {
   "cell_type": "raw",
   "id": "586e2378",
   "metadata": {},
   "source": [
    "pack(anchor=W)- will align to west"
   ]
  },
  {
   "cell_type": "code",
   "execution_count": 8,
   "id": "8a924368",
   "metadata": {},
   "outputs": [],
   "source": [
    "from tkinter import *\n",
    "from PIL import ImageTk,Image\n",
    "# import tkinter.Radiobutton\n",
    "root=Tk()\n",
    "\n",
    "\n",
    "def clicked():\n",
    "    global my_Label\n",
    "    Label(root,text=pizza.get()).pack()\n",
    "    \n",
    "MODES=[\n",
    "    (\"peparoni\",\"peparoni\"),\n",
    "    (\"chesse\",\"chesse\"),\n",
    "    (\"mushroom\",\"mushroom\"),\n",
    "    (\"onion\",\"onion\")\n",
    "]\n",
    "\n",
    "    \n",
    "pizza=StringVar()\n",
    "pizza.set(\"peparoni\")\n",
    "\n",
    "\n",
    "\n",
    "for text,mode in MODES:\n",
    "    Radiobutton(root,text=text,variable=pizza,value=mode).pack(anchor=W)\n",
    "\n",
    "\n",
    "butt=Button(root,text=\"Click Me\",command=clicked)\n",
    "butt.pack()\n",
    "\n",
    "root.mainloop()"
   ]
  },
  {
   "cell_type": "markdown",
   "id": "34d5491f",
   "metadata": {},
   "source": [
    "# Creating Message Box(Kind of PopUp)\n",
    "messagebox.showinfo(title  of message,actual message)\n",
    "there are different type of messageboc we can generate:-\n",
    "showinfo,showwarning,showerror,askquestion,askokcancle,askyesno\n",
    "\n",
    "messagebox will return response that we have to store in python variable not kinter variable xd  "
   ]
  },
  {
   "cell_type": "code",
   "execution_count": 8,
   "id": "1ab8caa4",
   "metadata": {},
   "outputs": [],
   "source": [
    "from tkinter import *\n",
    "from tkinter import messagebox\n",
    "\n",
    "root=Tk()\n",
    "root.title(\"Creating Message Box\")\n",
    "\n",
    "def PopUp():\n",
    "    m=messagebox.askokcancel(\"This is message from Yug\",\"Fuckyou\")\n",
    "    Label(root,text=m).pack()\n",
    "\n",
    "butt=Button(root,text=\"PopUp\",command=PopUp).pack()\n",
    "\n",
    "root.mainloop()"
   ]
  },
  {
   "cell_type": "markdown",
   "id": "26baac3c",
   "metadata": {},
   "source": [
    "# Creating New Windows In program\n",
    "\n",
    "until now we were using root window\n",
    "in python sometime locacal variable are put up in garbage so assign it global \n",
    "root.destroy- use to destroy/close window\n",
    "if inner window cause outter window to close then inner window will eventually get close"
   ]
  },
  {
   "cell_type": "code",
   "execution_count": 2,
   "id": "f6c8c2ba",
   "metadata": {},
   "outputs": [],
   "source": [
    "from tkinter import *\n",
    "\n",
    "root=Tk()\n",
    "root.title(\"1\")\n",
    "\n",
    "def  open():\n",
    "    top=Toplevel()\n",
    "    top.title(\"2\")\n",
    "    butt=Button(top,text=\"ClickME\").pack()\n",
    "    butt2=Button(top,text=\"It will destroy \",command=root.destroy).pack()\n",
    "\n",
    "bu=Button(root,text=\"Open Second Window\",command=open).pack()\n",
    "# m=Tk()\n",
    "# n=Toplevel()\n",
    "# n.title(\"4\")\n",
    "# m.title(\"3\")\n",
    "mainloop()\n"
   ]
  },
  {
   "cell_type": "markdown",
   "id": "bf1f5aab",
   "metadata": {},
   "source": [
    "# Open File Dialog Box\n",
    "\n",
    ".filename- will just return the name of the file and location of the file\n",
    "root.filename=filedialog.askopenfilename()\n",
    "\n",
    "will return address of the file XD\n"
   ]
  },
  {
   "cell_type": "code",
   "execution_count": 9,
   "id": "747942d9",
   "metadata": {},
   "outputs": [],
   "source": [
    "from tkinter import  *\n",
    "from tkinter import filedialog\n",
    "\n",
    "root=Tk()\n",
    "root.title(\"Opening Dialog  Box\")\n",
    "\n",
    "root.filename=filedialog.askopenfilename(initialdir=\"\",title=\"Open that study wali file\",filetypes=((\"png\",\"*.png\"),(\"jpg\",\"*.jpg\"),(\"all Type\",\"*.*\")))\n"
   ]
  },
  {
   "cell_type": "markdown",
   "id": "1b64b395",
   "metadata": {},
   "source": [
    "# Slider\n",
    "will return the  number based on where it is preset\n",
    "we can get that number by method .get\n",
    "\n",
    "\n",
    "from_=,to\n",
    "\n",
    "dont use rust convention of .pack() after slider to avoid further problems here\n",
    "ROOT.GEOMETRY-define how much should be our original window should be\n",
    ".geometry need x in between string like \"40x40\" as a parameter here 'x' should be small\n",
    "\n",
    "\n",
    "vvimp\n",
    "if we use rust like programming like .pack() during defination then we can't use method of Scale like .get \n",
    "vvimp\n",
    "\n",
    "during applying command on slider be explicit while passing parameter it will not take .get() automatically give v as parameter"
   ]
  },
  {
   "cell_type": "code",
   "execution_count": 23,
   "id": "1da2b1e4",
   "metadata": {},
   "outputs": [],
   "source": [
    "from tkinter import *\n",
    "\n",
    "root=Tk()\n",
    "root.title(\"Unnderstanding Slider\")\n",
    "root.geometry(\"400x400\")\n",
    "\n",
    "def tt(v):\n",
    "#     Label(root,text=sli.get()).pack()\n",
    "    root.geometry(str(sli.get())+\"x400\")\n",
    "\n",
    "sli=Scale(root,from_=1,to=600,orient=HORIZONTAL,command=tt)\n",
    "sli.pack()\n",
    "\n",
    "# but=Button(root,text=\"hello dear\",command=tt).pack()\n",
    "\n",
    "mainloop()"
   ]
  },
  {
   "cell_type": "markdown",
   "id": "459180de",
   "metadata": {},
   "source": [
    "# Checkboxes\n",
    "\n",
    "on or off only little different than radio button\n",
    "\n",
    "\n"
   ]
  },
  {
   "cell_type": "raw",
   "id": "0508c073",
   "metadata": {},
   "source": [
    "to update widgit we have to create function"
   ]
  },
  {
   "cell_type": "code",
   "execution_count": 10,
   "id": "873a9fc0",
   "metadata": {},
   "outputs": [],
   "source": [
    "from tkinter import *\n",
    "\n",
    "root=Tk()\n",
    "root.title('Checkbox')\n",
    "\n",
    "var= IntVar()\n",
    "\n",
    "def chang():\n",
    "#     myLabel.grid_forget()\n",
    "    myLabel=Label(root,text=var.get()).grid(row=2,column=0)\n",
    "\n",
    "    \n",
    "\n",
    "c=Checkbutton(root,text=\"Check This box, I dare You!\",variable=var)\n",
    "c.grid(row=0,column=0)\n",
    "\n",
    "\n",
    "but=Button(root,text=\"Click Here\",command=chang).grid(row=1,column=0)\n",
    "\n",
    "root.mainloop()"
   ]
  },
  {
   "cell_type": "raw",
   "id": "fc26daa0",
   "metadata": {},
   "source": [
    "use deselect while usng onvalue "
   ]
  },
  {
   "cell_type": "code",
   "execution_count": 11,
   "id": "da75121c",
   "metadata": {},
   "outputs": [],
   "source": [
    "from tkinter import *\n",
    "\n",
    "root=Tk()\n",
    "root.title('Checkbox')\n",
    "\n",
    "var= StringVar()\n",
    "\n",
    "def chang():\n",
    "#     myLabel.grid_forget()\n",
    "    myLabel=Label(root,text=var.get()).grid(row=2,column=0)\n",
    "\n",
    "    \n",
    "\n",
    "c=Checkbutton(root,text=\"Check This box, I dare You!\",variable=var,onvalue=\"On\",offvalue=\"Off\")\n",
    "c.deselect()\n",
    "c.grid(row=0,column=0)\n",
    "\n",
    "\n",
    "but=Button(root,text=\"Click Here\",command=chang).grid(row=1,column=0)\n",
    "\n",
    "root.mainloop()"
   ]
  },
  {
   "cell_type": "markdown",
   "id": "bb2a6a74",
   "metadata": {},
   "source": [
    "# DrapDown Box\n",
    "\n",
    "kinter variable.get() will return value\n",
    "drop downm will saved value in kinter variable\n",
    "\n",
    "OptionMenu(root,variable,*list)\n"
   ]
  },
  {
   "cell_type": "code",
   "execution_count": 12,
   "id": "83752e2c",
   "metadata": {},
   "outputs": [],
   "source": [
    "from tkinter import *\n",
    "\n",
    "root=Tk()\n",
    "def chang():\n",
    "#     myLabel.grid_forget()\n",
    "    myLabel=Label(root,text=clicked.get()).grid(row=2,column=0)\n",
    "\n",
    "clicked=StringVar()\n",
    "clicked.set(\"Monday\")\n",
    "drop=OptionMenu(root,clicked,\"Monday\",\"Tuesday\",\"Wednesday\",\"Thursday\",\"Friday\",\"Saturday\",\"Sunday\").grid()\n",
    "but=Button(root,text=\"Click Here\",command=chang).grid(row=1,column=0)\n",
    "\n",
    "\n",
    "root.mainloop()"
   ]
  },
  {
   "cell_type": "markdown",
   "id": "b2a08522",
   "metadata": {},
   "source": [
    "# Using Database\n",
    "\n",
    "curser is something we usually send it to database to do stuff"
   ]
  },
  {
   "cell_type": "code",
   "execution_count": 29,
   "id": "32a2d754",
   "metadata": {},
   "outputs": [
    {
     "ename": "OperationalError",
     "evalue": "table addresses already exists",
     "output_type": "error",
     "traceback": [
      "\u001B[1;31m---------------------------------------------------------------------------\u001B[0m",
      "\u001B[1;31mOperationalError\u001B[0m                          Traceback (most recent call last)",
      "Input \u001B[1;32mIn [29]\u001B[0m, in \u001B[0;36m<cell line: 15>\u001B[1;34m()\u001B[0m\n\u001B[0;32m     12\u001B[0m c\u001B[38;5;241m=\u001B[39mconn\u001B[38;5;241m.\u001B[39mcursor()\n\u001B[0;32m     14\u001B[0m \u001B[38;5;66;03m#create table\u001B[39;00m\n\u001B[1;32m---> 15\u001B[0m \u001B[43mc\u001B[49m\u001B[38;5;241;43m.\u001B[39;49m\u001B[43mexecute\u001B[49m\u001B[43m(\u001B[49m\u001B[38;5;124;43m\"\"\"\u001B[39;49m\u001B[38;5;124;43mCREATE TABLE addresses(\u001B[39;49m\n\u001B[0;32m     16\u001B[0m \u001B[38;5;124;43m        first_name text,\u001B[39;49m\n\u001B[0;32m     17\u001B[0m \u001B[38;5;124;43m        last_name test,\u001B[39;49m\n\u001B[0;32m     18\u001B[0m \u001B[38;5;124;43m        address text,\u001B[39;49m\n\u001B[0;32m     19\u001B[0m \u001B[38;5;124;43m        city text,\u001B[39;49m\n\u001B[0;32m     20\u001B[0m \u001B[38;5;124;43m        zipcode int\u001B[39;49m\n\u001B[0;32m     21\u001B[0m \n\u001B[0;32m     22\u001B[0m \u001B[38;5;124;43m)\u001B[39;49m\n\u001B[0;32m     23\u001B[0m \n\u001B[0;32m     24\u001B[0m \n\u001B[0;32m     25\u001B[0m \n\u001B[0;32m     26\u001B[0m \u001B[38;5;124;43m\"\"\"\u001B[39;49m\u001B[43m)\u001B[49m\n\u001B[0;32m     30\u001B[0m \u001B[38;5;66;03m#commite change\u001B[39;00m\n\u001B[0;32m     31\u001B[0m conn\u001B[38;5;241m.\u001B[39mcommit()\n",
      "\u001B[1;31mOperationalError\u001B[0m: table addresses already exists"
     ]
    }
   ],
   "source": [
    "from tkinter import *\n",
    "import sqlite3\n",
    "\n",
    "root=Tk()\n",
    "\n",
    "\n",
    "#create database or connect with it\n",
    "conn=sqlite3.connect('address_book.db')\n",
    "\n",
    "\n",
    "#create cursor\n",
    "c=conn.cursor()\n",
    "\n",
    "#create table\n",
    "c.execute(\"\"\"CREATE TABLE addresses(\n",
    "        first_name text,\n",
    "        last_name test,\n",
    "        address text,\n",
    "        city text,\n",
    "        zipcode int\n",
    "\n",
    ")\n",
    "\n",
    "\n",
    "\n",
    "\"\"\")\n",
    "\n",
    "\n",
    "\n",
    "#commite change\n",
    "conn.commit()\n",
    "\n",
    "\n",
    "#close connection\n",
    "conn.close\n",
    "\n",
    "\n",
    "root.mainloop()\n",
    "\n",
    "\n"
   ]
  },
  {
   "cell_type": "markdown",
   "id": "2e0646b1",
   "metadata": {},
   "source": [
    "# Building GUI for Database\n",
    "\n",
    "put connection thig in function\n",
    "notcompleteded complete it XD"
   ]
  },
  {
   "cell_type": "code",
   "execution_count": 2,
   "id": "e19ba5bb",
   "metadata": {},
   "outputs": [
    {
     "ename": "SyntaxError",
     "evalue": "invalid syntax (1196890509.py, line 25)",
     "output_type": "error",
     "traceback": [
      "\u001B[1;36m  Input \u001B[1;32mIn [2]\u001B[1;36m\u001B[0m\n\u001B[1;33m    my_label=Label(root,text=\"My first name is \"+first_name.get()+\"my last name is \"+\"my address is\"+address.get()+\"my city is\"+city.get()+\"my zipcode is\"+zipcode.get())grid(row=6,column=0)\u001B[0m\n\u001B[1;37m                                                                                                                                                                         ^\u001B[0m\n\u001B[1;31mSyntaxError\u001B[0m\u001B[1;31m:\u001B[0m invalid syntax\n"
     ]
    }
   ],
   "source": [
    "from tkinter import *\n",
    "import sqlite3\n",
    "\n",
    "root=Tk()\n",
    "\n",
    "\n",
    "def pri():\n",
    "    #create database or connect with it\n",
    "    conn=sqlite3.connect('address_book.db')\n",
    "\n",
    "\n",
    "    #create cursor\n",
    "    c=conn.cursor()\n",
    "   \n",
    "    #insert into table\n",
    "    #c.execute(\"INSERT INTO addresses VALUES(:first_name,:last_name,:address,:city,:zipcode)\",\n",
    "    \n",
    "#     {\n",
    "#         'f_name':\n",
    "#     }\n",
    "    \n",
    "#     )\n",
    "\n",
    "\n",
    "    my_label=Label(root,text=\"My first name is \"+first_name.get()+\"my last name is \"+\"my address is\"+address.get()+\"my city is\"+city.get()+\"my zipcode is\"+zipcode.get())grid(row=6,column=0)\n",
    "    \n",
    "    #commite change\n",
    "    conn.commit()\n",
    "\n",
    "    #close connection\n",
    "    conn.close()\n",
    "   \n",
    "    \n",
    "    first_name.delete(0,END)\n",
    "    last_name.delete(0,END)\n",
    "    address.delete(0,END)\n",
    "    city.delete(0,END)\n",
    "    zipcode.delete(0,END)\n",
    "\n",
    "    \n",
    "\n",
    "#create table\n",
    "# c.execute(\"\"\"CREATE TABLE addresses(\n",
    "#         first_name text,\n",
    "#         last_name test,\n",
    "#         address text,\n",
    "#         city text,\n",
    "#         zipcode int\n",
    "\n",
    "# )\n",
    "\n",
    "\n",
    "\n",
    "# \"\"\")\n",
    "\n",
    "#create text box\n",
    "first_name=Entry(root,width=30)\n",
    "first_name.grid(row=0,column=1,padx=20)\n",
    "last_name=Entry(root,width=30)\n",
    "last_name.grid(row=1,column=1,padx=20)\n",
    "address=Entry(root,width=30)\n",
    "address.grid(row=2,column=1,padx=20)\n",
    "city=Entry(root,width=30)\n",
    "city.grid(row=3,column=1,padx=20)\n",
    "zipcode=Entry(root,width=30)\n",
    "zipcode.grid(row=4,column=1,padx=20)\n",
    "\n",
    "first_name_label=Label(root,text=\"First name\").grid(row=0,column=0)\n",
    "last_name_label=Label(root,text=\"Last Name\").grid(row=1,column=0)\n",
    "address_label=Label(root,text=\"Address\").grid(row=2,column=0)\n",
    "city_label=Label(root,text=\"City\").grid(row=3,column=0)\n",
    "zipcode_label=Label(root,text=\"Zipcode\").grid(row=4,column=0)\n",
    "\n",
    "#create submit button\n",
    "but=Button(root,text=\"Submit\",command=pri).grid(row=5,column=0,columnspan=2)\n",
    "\n",
    " \n",
    "\n",
    "\n",
    "root.mainloop()"
   ]
  },
  {
   "cell_type": "markdown",
   "id": "91039acb",
   "metadata": {},
   "source": [
    "# Delete Record From Database"
   ]
  },
  {
   "cell_type": "code",
   "execution_count": 11,
   "id": "8a33fe32",
   "metadata": {},
   "outputs": [
    {
     "ename": "TypeError",
     "evalue": "flash() got an unexpected keyword argument 'active'",
     "output_type": "error",
     "traceback": [
      "\u001B[1;31m---------------------------------------------------------------------------\u001B[0m",
      "\u001B[1;31mTypeError\u001B[0m                                 Traceback (most recent call last)",
      "Input \u001B[1;32mIn [11]\u001B[0m, in \u001B[0;36m<cell line: 11>\u001B[1;34m()\u001B[0m\n\u001B[0;32m      9\u001B[0m b1\u001B[38;5;241m=\u001B[39mButton(root,text\u001B[38;5;241m=\u001B[39m\u001B[38;5;124m\"\u001B[39m\u001B[38;5;124mHI\u001B[39m\u001B[38;5;124m\"\u001B[39m,command\u001B[38;5;241m=\u001B[39mwrite)\n\u001B[0;32m     10\u001B[0m b1\u001B[38;5;241m.\u001B[39mpack()\n\u001B[1;32m---> 11\u001B[0m \u001B[43mb1\u001B[49m\u001B[38;5;241;43m.\u001B[39;49m\u001B[43mflash\u001B[49m\u001B[43m(\u001B[49m\u001B[43mactive\u001B[49m\u001B[38;5;241;43m=\u001B[39;49m\u001B[38;5;124;43m\"\u001B[39;49m\u001B[38;5;124;43mblue\u001B[39;49m\u001B[38;5;124;43m\"\u001B[39;49m\u001B[43m)\u001B[49m\n\u001B[0;32m     14\u001B[0m \u001B[38;5;66;03m#txt=Text(root,bg=\"light green\",fg=\"blue\",width=87,height=38,xscrollcommand=10).grid()\u001B[39;00m\n\u001B[0;32m     15\u001B[0m \n\u001B[0;32m     16\u001B[0m \n\u001B[0;32m     17\u001B[0m \u001B[38;5;66;03m#txt.insert(END,\"hi lavde\")\u001B[39;00m\n\u001B[0;32m     21\u001B[0m root\u001B[38;5;241m.\u001B[39mmainloop()\n",
      "\u001B[1;31mTypeError\u001B[0m: flash() got an unexpected keyword argument 'active'"
     ]
    }
   ],
   "source": [
    "from tkinter import *\n",
    "\n",
    "root=Tk()\n",
    "root.geometry(\"700x600\")\n",
    "#add background\n",
    "def write():\n",
    "    Label(root,text=\"Ok\").pack()\n",
    "\n",
    "b1=Button(root,text=\"HI\",command=write)\n",
    "b1.pack()\n",
    "\n",
    "\n",
    "\n",
    "#txt=Text(root,bg=\"light green\",fg=\"blue\",width=87,height=38,xscrollcommand=10).grid()\n",
    "\n",
    "\n",
    "#txt.insert(END,\"hi lavde\")\n",
    "\n",
    "\n",
    "\n",
    "root.mainloop()"
   ]
  },
  {
   "cell_type": "code",
   "execution_count": 2,
   "id": "fa6f2f3c",
   "metadata": {},
   "outputs": [],
   "source": [
    "from tkinter import *\n",
    "import sqlite3 \n",
    "\n",
    "\n",
    "root=Tk()\n",
    "\n",
    "con=sqlite3.connect('address.db')\n",
    "\n",
    "c=con.cursor()\n",
    "\n",
    "c.execute(\"\"\"CREATE TABLE addresses(\n",
    "             first_name text,\n",
    "             last_name text,\n",
    "             address text,\n",
    "             city text,\n",
    "             state text,\n",
    "             zipcode integer\n",
    "                )\"\"\")\n",
    "\n",
    "\n",
    "\n",
    "con.commit()\n",
    "\n",
    "con.close()\n",
    "\n",
    "\n",
    "\n",
    "\n",
    "\n",
    "\n",
    "\n",
    "\n",
    "\n",
    "\n",
    "\n",
    "\n",
    "\n",
    "\n",
    "\n",
    "\n",
    "root.mainloop()"
   ]
  },
  {
   "cell_type": "code",
   "execution_count": null,
   "id": "4e34f862",
   "metadata": {},
   "outputs": [],
   "source": []
  }
 ],
 "metadata": {
  "kernelspec": {
   "display_name": "Python 3 (ipykernel)",
   "language": "python",
   "name": "python3"
  },
  "language_info": {
   "codemirror_mode": {
    "name": "ipython",
    "version": 3
   },
   "file_extension": ".py",
   "mimetype": "text/x-python",
   "name": "python",
   "nbconvert_exporter": "python",
   "pygments_lexer": "ipython3",
   "version": "3.9.13"
  }
 },
 "nbformat": 4,
 "nbformat_minor": 5
}
